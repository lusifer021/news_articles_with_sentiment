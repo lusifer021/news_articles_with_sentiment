{
 "cells": [
  {
   "cell_type": "code",
   "execution_count": 1,
   "metadata": {},
   "outputs": [],
   "source": [
    "import requests\n",
    "from bs4 import BeautifulSoup\n",
    "import numpy as np\n",
    "import pandas as pd\n",
    "import time"
   ]
  },
  {
   "cell_type": "code",
   "execution_count": 2,
   "metadata": {},
   "outputs": [],
   "source": [
    "r1 = requests.get('https://www.bbc.com/news/world-europe-64089428')"
   ]
  },
  {
   "cell_type": "code",
   "execution_count": 3,
   "metadata": {},
   "outputs": [
    {
     "data": {
      "text/plain": [
       "<Response [200]>"
      ]
     },
     "execution_count": 3,
     "metadata": {},
     "output_type": "execute_result"
    }
   ],
   "source": [
    "r1"
   ]
  },
  {
   "cell_type": "code",
   "execution_count": 4,
   "metadata": {},
   "outputs": [
    {
     "data": {
      "text/plain": [
       "200"
      ]
     },
     "execution_count": 4,
     "metadata": {},
     "output_type": "execute_result"
    }
   ],
   "source": [
    "r1.status_code"
   ]
  },
  {
   "cell_type": "code",
   "execution_count": 5,
   "metadata": {},
   "outputs": [],
   "source": [
    "coverpage = r1.content"
   ]
  },
  {
   "cell_type": "code",
   "execution_count": null,
   "metadata": {},
   "outputs": [],
   "source": [
    "coverpage"
   ]
  },
  {
   "cell_type": "code",
   "execution_count": 7,
   "metadata": {},
   "outputs": [],
   "source": [
    "soup1 = BeautifulSoup(coverpage, 'html5lib')"
   ]
  },
  {
   "cell_type": "code",
   "execution_count": null,
   "metadata": {},
   "outputs": [],
   "source": [
    "soup1"
   ]
  },
  {
   "cell_type": "code",
   "execution_count": 11,
   "metadata": {},
   "outputs": [],
   "source": [
    "coverpage_news = soup1.find_all('p')"
   ]
  },
  {
   "cell_type": "code",
   "execution_count": null,
   "metadata": {},
   "outputs": [],
   "source": [
    "coverpage_news"
   ]
  },
  {
   "cell_type": "code",
   "execution_count": 29,
   "metadata": {},
   "outputs": [
    {
     "data": {
      "text/plain": [
       "[<p class=\"ssrcss-1q0x1qg-Paragraph eq5iqo00\">This video can not be played</p>,\n",
       " <p class=\"ssrcss-1q0x1qg-Paragraph eq5iqo00\">Watch: Pope Francis' Christmas plea for 'immediate end to senseless war in Ukraine'</p>,\n",
       " <p class=\"ssrcss-1q0x1qg-Paragraph eq5iqo00\"><b class=\"ssrcss-hmf8ql-BoldText e5tfeyi3\">Pope Francis has said the world is suffering from a \"famine of peace\", in his annual Christmas Day message from the Vatican.</b></p>,\n",
       " <p class=\"ssrcss-1q0x1qg-Paragraph eq5iqo00\">He called for a end to the \"senseless war\" in Ukraine, condemning what he said was the use of \"food as a weapon\" of war.</p>,\n",
       " <p class=\"ssrcss-1q0x1qg-Paragraph eq5iqo00\">Ukraine shipped about 30% of the world's wheat and prices have jumped since the Russian invasion in February.</p>,\n",
       " <p class=\"ssrcss-1q0x1qg-Paragraph eq5iqo00\">It was Pope Francis' 10th Christmas Day address since he assumed the papacy.</p>,\n",
       " <p class=\"ssrcss-1q0x1qg-Paragraph eq5iqo00\">While the war in Ukraine occupied much of his 10-minute speech, he spoke of \"a grave famine of peace also in other regions and other theatres of this Third World War\".</p>,\n",
       " <p class=\"ssrcss-1q0x1qg-Paragraph eq5iqo00\">He singled out conflicts and humanitarian crises in the Middle East, Myanmar, Haiti, and the Sahel region of Africa.</p>,\n",
       " <p class=\"ssrcss-1q0x1qg-Paragraph eq5iqo00\">The pontiff also prayed for \"reconciliation\" in Iran, where mass anti-government protests have swept the country for more than three months. The protests there have been met by a crackdown, with more than 500 people, including 69 children, killed, human rights groups say.</p>,\n",
       " <p class=\"ssrcss-1q0x1qg-Paragraph eq5iqo00\">Speaking from a balcony at the basilica overlooking St Peter's Square, the 86-year-old Pope lamented the human cost of war. He urged not to forget those \"who go hungry while huge amounts of food daily go to waste and resources are being spent on weapons\".</p>,\n",
       " <p class=\"ssrcss-1q0x1qg-Paragraph eq5iqo00\">\"The war in Ukraine has further aggravated this situation, putting entire peoples at risk of famine, especially in Afghanistan and in the countries of the Horn of Africa,\" he said.</p>,\n",
       " <p class=\"ssrcss-1q0x1qg-Paragraph eq5iqo00\">\"We know that every war causes hunger and exploits food as a weapon, hindering its distribution to people already suffering.\"</p>,\n",
       " <p class=\"ssrcss-1q0x1qg-Paragraph eq5iqo00\">The Pope said \"those who hold political responsibilities\" should lead the way to make food \"solely an instrument of peace\".</p>,\n",
       " <p class=\"ssrcss-1q0x1qg-Paragraph eq5iqo00\">His message was followed by the customary Urbi et Orbi  (To the City and to the World) blessing, recited in Latin and traditionally in many other languages as well.</p>,\n",
       " <p class=\"ssrcss-17zglt8-PromoHeadline e1f5wbog4\"><span aria-hidden=\"false\">Pope condemns human 'hunger for wealth and power'</span></p>,\n",
       " <p class=\"ssrcss-17zglt8-PromoHeadline e1f5wbog4\"><span aria-hidden=\"false\">New year celebrations around the world as 2023 begins</span></p>,\n",
       " <p class=\"ssrcss-17zglt8-PromoHeadline e1f5wbog4\"><span class=\"visually-hidden ssrcss-1f39n02-VisuallyHidden e1y6uwnp0\">WATCH: Fireworks and light shows kick off 2023. Video</span><span aria-hidden=\"true\">WATCH: Fireworks and light shows kick off 2023</span></p>,\n",
       " <p class=\"ssrcss-17zglt8-PromoHeadline e1f5wbog4\"><span aria-hidden=\"false\">Putin is destroying you, Zelensky tells Russians</span></p>,\n",
       " <p class=\"ssrcss-17zglt8-PromoHeadline e1f5wbog4\"><span aria-hidden=\"false\">World celebrates arrival of 2023</span></p>,\n",
       " <p class=\"ssrcss-17zglt8-PromoHeadline e1f5wbog4\"><span aria-hidden=\"false\">The young Indians saving crumbling ancestral homes</span></p>,\n",
       " <p class=\"ssrcss-17zglt8-PromoHeadline e1f5wbog4\"><span aria-hidden=\"false\">The life-saving secret message in a Colombian pop song</span></p>,\n",
       " <p class=\"ssrcss-17zglt8-PromoHeadline e1f5wbog4\"><span aria-hidden=\"false\">Soul trio Gabriels kick off the BBC Sound Of 2023</span></p>,\n",
       " <p class=\"ssrcss-17zglt8-PromoHeadline e1f5wbog4\"><span aria-hidden=\"false\">'Every Ukrainian has a battlefield - the stage is ours'</span></p>,\n",
       " <p class=\"ssrcss-17zglt8-PromoHeadline e1f5wbog4\"><span aria-hidden=\"false\">Czechs and Slovaks mark 30 years since break-up</span></p>,\n",
       " <p class=\"ssrcss-17zglt8-PromoHeadline e1f5wbog4\"><span aria-hidden=\"false\">Benedict: The pope who resigned from the papacy</span></p>,\n",
       " <p class=\"ssrcss-17zglt8-PromoHeadline e1f5wbog4\"><span class=\"visually-hidden ssrcss-1f39n02-VisuallyHidden e1y6uwnp0\">2022's biggest stories... in 74 seconds. Video</span><span aria-hidden=\"true\">2022's biggest stories... in 74 seconds</span></p>,\n",
       " <p class=\"ssrcss-17zglt8-PromoHeadline e1f5wbog4\"><span aria-hidden=\"false\">Why the Dutch don't say sorry</span></p>,\n",
       " <p class=\"ssrcss-17zglt8-PromoHeadline e1f5wbog4\"><span aria-hidden=\"false\">The most unlikely TV hit ever?</span></p>,\n",
       " <p class=\"ssrcss-17zglt8-PromoHeadline e1f5wbog4\"><span aria-hidden=\"false\">Which protein is most climate-friendly?</span></p>,\n",
       " <p class=\"ssrcss-17zglt8-PromoHeadline e1f5wbog4\"><span aria-hidden=\"false\">The railway that forever changed the US</span></p>,\n",
       " <p class=\"ssrcss-1q0x1qg-Paragraph eq5iqo00\">© 2023 BBC. The BBC is not responsible for the content of external sites. <a class=\"ssrcss-odwm7b-Link e14mg4ud0\" href=\"https://www.bbc.co.uk/editorialguidelines/guidance/feeds-and-links\">Read about our approach to external linking.</a></p>]"
      ]
     },
     "execution_count": 29,
     "metadata": {},
     "output_type": "execute_result"
    }
   ],
   "source": [
    "coverpage_news[:]"
   ]
  },
  {
   "cell_type": "code",
   "execution_count": 47,
   "metadata": {},
   "outputs": [],
   "source": [
    "coverpage_news = str(coverpage_news)"
   ]
  },
  {
   "cell_type": "code",
   "execution_count": 31,
   "metadata": {},
   "outputs": [
    {
     "data": {
      "text/plain": [
       "'This video can not be played'"
      ]
     },
     "execution_count": 31,
     "metadata": {},
     "output_type": "execute_result"
    }
   ],
   "source": [
    "coverpage_news[0].text"
   ]
  },
  {
   "cell_type": "code",
   "execution_count": 12,
   "metadata": {},
   "outputs": [],
   "source": [
    "import re\n",
    "# as per recommendation from @freylis, compile once only\n",
    "CLEANR = re.compile('<.*?>') \n",
    "\n",
    "def cleanhtml(raw_html):\n",
    "  cleantext = re.sub(CLEANR, '', raw_html)\n",
    "  return cleantext"
   ]
  },
  {
   "cell_type": "code",
   "execution_count": 14,
   "metadata": {},
   "outputs": [],
   "source": [
    "coverpage = cleanhtml(coverpage_news)"
   ]
  },
  {
   "cell_type": "code",
   "execution_count": 15,
   "metadata": {},
   "outputs": [
    {
     "data": {
      "text/plain": [
       "'[This video can not be played, Watch: Pope Francis\\' Christmas plea for \\'immediate end to senseless war in Ukraine\\', Pope Francis has said the world is suffering from a \"famine of peace\", in his annual Christmas Day message from the Vatican., He called for a end to the \"senseless war\" in Ukraine, condemning what he said was the use of \"food as a weapon\" of war., Ukraine shipped about 30% of the world\\'s wheat and prices have jumped since the Russian invasion in February., It was Pope Francis\\' 10th Christmas Day address since he assumed the papacy., While the war in Ukraine occupied much of his 10-minute speech, he spoke of \"a grave famine of peace also in other regions and other theatres of this Third World War\"., He singled out conflicts and humanitarian crises in the Middle East, Myanmar, Haiti, and the Sahel region of Africa., The pontiff also prayed for \"reconciliation\" in Iran, where mass anti-government protests have swept the country for more than three months. The protests there have been met by a crackdown, with more than 500 people, including 69 children, killed, human rights groups say., Speaking from a balcony at the basilica overlooking St Peter\\'s Square, the 86-year-old Pope lamented the human cost of war. He urged not to forget those \"who go hungry while huge amounts of food daily go to waste and resources are being spent on weapons\"., \"The war in Ukraine has further aggravated this situation, putting entire peoples at risk of famine, especially in Afghanistan and in the countries of the Horn of Africa,\" he said., \"We know that every war causes hunger and exploits food as a weapon, hindering its distribution to people already suffering.\", The Pope said \"those who hold political responsibilities\" should lead the way to make food \"solely an instrument of peace\"., His message was followed by the customary Urbi et Orbi  (To the City and to the World) blessing, recited in Latin and traditionally in many other languages as well., Pope condemns human \\'hunger for wealth and power\\', New year celebrations around the world as 2023 begins, WATCH: Fireworks and light shows kick off 2023. VideoWATCH: Fireworks and light shows kick off 2023, Putin is destroying you, Zelensky tells Russians, World celebrates arrival of 2023, The young Indians saving crumbling ancestral homes, The life-saving secret message in a Colombian pop song, Soul trio Gabriels kick off the BBC Sound Of 2023, \\'Every Ukrainian has a battlefield - the stage is ours\\', Czechs and Slovaks mark 30 years since break-up, Benedict: The pope who resigned from the papacy, 2022\\'s biggest stories... in 74 seconds. Video2022\\'s biggest stories... in 74 seconds, Why the Dutch don\\'t say sorry, The most unlikely TV hit ever?, Which protein is most climate-friendly?, The railway that forever changed the US, © 2023 BBC. The BBC is not responsible for the content of external sites. Read about our approach to external linking.]'"
      ]
     },
     "execution_count": 15,
     "metadata": {},
     "output_type": "execute_result"
    }
   ],
   "source": [
    "coverpage"
   ]
  },
  {
   "cell_type": "code",
   "execution_count": 26,
   "metadata": {},
   "outputs": [],
   "source": [
    "import spacy\n",
    "\n",
    "nlp = spacy.load(\"en_core_web_sm\")"
   ]
  },
  {
   "cell_type": "code",
   "execution_count": 28,
   "metadata": {},
   "outputs": [],
   "source": [
    "name = \"Pope Francis\""
   ]
  },
  {
   "cell_type": "code",
   "execution_count": 54,
   "metadata": {},
   "outputs": [
    {
     "data": {
      "text/plain": [
       "(Ukraine,)"
      ]
     },
     "execution_count": 54,
     "metadata": {},
     "output_type": "execute_result"
    }
   ],
   "source": [
    "nlp(coverpage_news[3].text).ents"
   ]
  },
  {
   "cell_type": "code",
   "execution_count": 53,
   "metadata": {},
   "outputs": [
    {
     "data": {
      "text/plain": [
       "He called for a end to the \"senseless war\" in Ukraine, condemning what he said was the use of \"food as a weapon\" of war."
      ]
     },
     "execution_count": 53,
     "metadata": {},
     "output_type": "execute_result"
    }
   ],
   "source": [
    "nlp(coverpage_news[3].text)"
   ]
  },
  {
   "cell_type": "code",
   "execution_count": 50,
   "metadata": {},
   "outputs": [],
   "source": [
    "coverpage_news = soup1.find_all('p')"
   ]
  },
  {
   "cell_type": "code",
   "execution_count": 41,
   "metadata": {},
   "outputs": [
    {
     "data": {
      "text/plain": [
       "['Pope', 'Francis']"
      ]
     },
     "execution_count": 41,
     "metadata": {},
     "output_type": "execute_result"
    }
   ],
   "source": [
    "name.split(' ')"
   ]
  },
  {
   "cell_type": "code",
   "execution_count": null,
   "metadata": {},
   "outputs": [],
   "source": [
    "nlp(coverpage_news)"
   ]
  },
  {
   "cell_type": "code",
   "execution_count": null,
   "metadata": {},
   "outputs": [],
   "source": []
  }
 ],
 "metadata": {
  "kernelspec": {
   "display_name": "Python 3.10.8 ('IITG_Hackathon')",
   "language": "python",
   "name": "python3"
  },
  "language_info": {
   "codemirror_mode": {
    "name": "ipython",
    "version": 3
   },
   "file_extension": ".py",
   "mimetype": "text/x-python",
   "name": "python",
   "nbconvert_exporter": "python",
   "pygments_lexer": "ipython3",
   "version": "3.10.8"
  },
  "orig_nbformat": 4,
  "vscode": {
   "interpreter": {
    "hash": "2651fa3903a2a2816241df7452bef8dff156915bccaf8b866b02797220aa9088"
   }
  }
 },
 "nbformat": 4,
 "nbformat_minor": 2
}
